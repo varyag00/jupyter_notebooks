{
 "cells": [
  {
   "cell_type": "markdown",
   "metadata": {},
   "source": []
  },
  {
   "cell_type": "code",
   "execution_count": 5,
   "metadata": {},
   "outputs": [
    {
     "data": {
      "text/plain": [
       "[1, 1, 2, 3, 5, 8, 13, 21, 34, 55]"
      ]
     },
     "execution_count": 5,
     "metadata": {},
     "output_type": "execute_result"
    }
   ],
   "source": [
    "# Naive \"generate fibbonacci less than X\". It stores the series in nums[] and grows linearly in memory usage\n",
    "\n",
    " def fibb(limit):\n",
    "    nums = []\n",
    "    \n",
    "    current = 0\n",
    "    next = 1\n",
    "    \n",
    "    while current < limit:\n",
    "        current, next = next, next + current\n",
    "        nums.append(current)\n",
    "    return nums\n",
    "\n",
    "fibb(50)"
   ]
  },
  {
   "cell_type": "code",
   "execution_count": 8,
   "metadata": {},
   "outputs": [
    {
     "name": "stdout",
     "output_type": "stream",
     "text": [
      "1\n",
      "1\n",
      "2\n",
      "3\n",
      "5\n",
      "8\n",
      "13\n",
      "21\n",
      "34\n",
      "55\n"
     ]
    }
   ],
   "source": [
    "# This version of fibb generates the current fibbonacci upon execution without storing every \n",
    "# result in memory, meaning it is O(n) runtime as well as O(n) memory \n",
    "\n",
    "def fibb(limit):\n",
    "    current = 0\n",
    "    next = 1\n",
    "    \n",
    "    while current < limit:\n",
    "        current, next = next, next + current\n",
    "        yield current\n",
    "\n",
    "for num in fibb(50):\n",
    "    print(num)"
   ]
  },
  {
   "cell_type": "code",
   "execution_count": null,
   "metadata": {
    "collapsed": true
   },
   "outputs": [],
   "source": []
  }
 ],
 "metadata": {
  "kernelspec": {
   "display_name": "Python 3",
   "language": "python",
   "name": "python3"
  },
  "language_info": {
   "codemirror_mode": {
    "name": "ipython",
    "version": 3
   },
   "file_extension": ".py",
   "mimetype": "text/x-python",
   "name": "python",
   "nbconvert_exporter": "python",
   "pygments_lexer": "ipython3",
   "version": "3.6.2"
  }
 },
 "nbformat": 4,
 "nbformat_minor": 2
}
