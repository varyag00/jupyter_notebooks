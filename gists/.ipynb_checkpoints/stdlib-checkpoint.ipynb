{
 "cells": [
  {
   "cell_type": "code",
   "execution_count": 37,
   "metadata": {},
   "outputs": [
    {
     "name": "stdout",
     "output_type": "stream",
     "text": [
      "Namespace(currency='ethereum', emoji=':bitcoin:', time_interval=200)\n",
      "Namespace(currency='ethereum', emoji=':bitcoin:', time_interval=200)\n",
      "usage: ipykernel_launcher.py [-h] [--time TIME_INTERVAL] [--currency CURRENCY]\n",
      "                             [--emoji EMOJI]\n",
      "\n",
      "Select sleep interval and currency to look up.\n",
      "\n",
      "optional arguments:\n",
      "  -h, --help            show this help message and exit\n",
      "  --time TIME_INTERVAL, -t TIME_INTERVAL\n",
      "                        Set the wait period (in seconds) between lookups.\n",
      "  --currency CURRENCY, -c CURRENCY\n",
      "                        Set the currency to look up. This should correspond to\n",
      "                        a coinmarketcap symbol, e.g. \"bitcoin\" for\n",
      "                        https://coinmarketcap.com/currencies/bitcoin/\n",
      "  --emoji EMOJI, -e EMOJI\n",
      "                        Set the emoji to add to the slack status, if any.\n"
     ]
    },
    {
     "ename": "SystemExit",
     "evalue": "0",
     "output_type": "error",
     "traceback": [
      "An exception has occurred, use %tb to see the full traceback.\n",
      "\u001b[0;31mSystemExit\u001b[0m\u001b[0;31m:\u001b[0m 0\n"
     ]
    },
    {
     "name": "stderr",
     "output_type": "stream",
     "text": [
      "/Users/dan/.local/share/virtualenvs/jupyter_notebooks-LUZkQtZY/lib/python3.6/site-packages/IPython/core/interactiveshell.py:2971: UserWarning: To exit: use 'exit', 'quit', or Ctrl-D.\n",
      "  warn(\"To exit: use 'exit', 'quit', or Ctrl-D.\", stacklevel=1)\n"
     ]
    }
   ],
   "source": [
    "\"\"\"Collection of standard library gists\"\"\""
   ]
  },
  {
   "cell_type": "code",
   "execution_count": 38,
   "metadata": {},
   "outputs": [
    {
     "name": "stdout",
     "output_type": "stream",
     "text": [
      "Namespace(currency='ethereum', emoji=':bitcoin:', time_interval=200)\n",
      "Namespace(currency='ethereum', emoji=':bitcoin:', time_interval=200)\n",
      "usage: ipykernel_launcher.py [-h] [--time TIME_INTERVAL] [--currency CURRENCY]\n",
      "                             [--emoji EMOJI]\n",
      "\n",
      "Select sleep interval and currency to look up.\n",
      "\n",
      "optional arguments:\n",
      "  -h, --help            show this help message and exit\n",
      "  --time TIME_INTERVAL, -t TIME_INTERVAL\n",
      "                        Set the wait period (in seconds) between lookups.\n",
      "  --currency CURRENCY, -c CURRENCY\n",
      "                        Set the currency to look up.\n",
      "  --emoji EMOJI, -e EMOJI\n",
      "                        Set the emoji to add to the slack status, if any.\n"
     ]
    },
    {
     "ename": "SystemExit",
     "evalue": "0",
     "output_type": "error",
     "traceback": [
      "An exception has occurred, use %tb to see the full traceback.\n",
      "\u001b[0;31mSystemExit\u001b[0m\u001b[0;31m:\u001b[0m 0\n"
     ]
    },
    {
     "name": "stderr",
     "output_type": "stream",
     "text": [
      "/Users/dan/.local/share/virtualenvs/jupyter_notebooks-LUZkQtZY/lib/python3.6/site-packages/IPython/core/interactiveshell.py:2971: UserWarning: To exit: use 'exit', 'quit', or Ctrl-D.\n",
      "  warn(\"To exit: use 'exit', 'quit', or Ctrl-D.\", stacklevel=1)\n"
     ]
    }
   ],
   "source": [
    "\"\"\"Using argparse\"\"\"\n",
    "\n",
    "import argparse\n",
    "\n",
    "DEFAULT_SLEEP = 300\n",
    "DEFAULT_CURRENCY = 'bitcoin'\n",
    "DEFAULT_EMOJI = ':bitcoin:'\n",
    "\n",
    "\n",
    "parser = argparse.ArgumentParser(\n",
    "    description='Select sleep interval and currency to look up.'\n",
    ")\n",
    "parser.add_argument(\n",
    "    '--time',\n",
    "    '-t',\n",
    "    action='store',\n",
    "    type=int,\n",
    "    default=DEFAULT_SLEEP,\n",
    "    dest='time_interval',\n",
    "    help='Set the wait period (in seconds) between lookups.',\n",
    ")\n",
    "parser.add_argument(\n",
    "    '--currency',\n",
    "    '-c',\n",
    "    action='store',\n",
    "    default=DEFAULT_CURRENCY,\n",
    "    dest='currency',\n",
    "    help='Set the currency to look up.',\n",
    ")\n",
    "parser.add_argument(\n",
    "    '--emoji',\n",
    "    '-e',\n",
    "    action='store',\n",
    "    default=DEFAULT_EMOJI,\n",
    "    dest='emoji',\n",
    "    help='Set the emoji to add to the slack status, if any.',\n",
    ")\n",
    "\n",
    "\n",
    "print(parser.parse_args(['--time', '200', '--currency', 'ethereum']))\n",
    "print(parser.parse_args(['-t', '200', '-c', 'ethereum']))\n",
    "print(parser.parse_args(['-h']))"
   ]
  },
  {
   "cell_type": "code",
   "execution_count": null,
   "metadata": {},
   "outputs": [],
   "source": []
  }
 ],
 "metadata": {
  "kernelspec": {
   "display_name": "jupyterlab",
   "language": "python",
   "name": "jupyterlab"
  },
  "language_info": {
   "codemirror_mode": {
    "name": "ipython",
    "version": 3
   },
   "file_extension": ".py",
   "mimetype": "text/x-python",
   "name": "python",
   "nbconvert_exporter": "python",
   "pygments_lexer": "ipython3",
   "version": "3.6.5"
  }
 },
 "nbformat": 4,
 "nbformat_minor": 2
}
