{
 "cells": [
  {
   "cell_type": "code",
   "execution_count": 22,
   "metadata": {},
   "outputs": [
    {
     "name": "stdout",
     "output_type": "stream",
     "text": [
      "All is good\n"
     ]
    }
   ],
   "source": [
    "\"\"\"Using mixins to override method/attributes on a class\n",
    "\n",
    "Main takeaway:\n",
    "- Order matters: when inheriting from a mixin that you wish \n",
    "to override some attr/behaviour, the mixin must be inherited\n",
    "from before the \"base\" so that the mixin's method appears \n",
    "before the \"base\"'s method in the MRO.\n",
    "\"\"\"\n",
    "\n",
    "class Foo(object):\n",
    "    def handle_it(self):\n",
    "        return 'Foo handled it'\n",
    "    \n",
    "    foo = 42\n",
    "    bar = 'LUE'\n",
    "    \n",
    "class FooMixin(object):\n",
    "    def handle_it(self):\n",
    "        return 'FooMixin handled it'\n",
    "    \n",
    "class Foobar(FooMixin, Foo):\n",
    "    \"\"\"Foo with handle_it() overridden by FooMixin\"\"\"\n",
    "\n",
    "class Barfoo(Foo, FooMixin):\n",
    "    \"\"\"Foo _without_ handle_it() overridden by FooMixin\"\"\"\n",
    "    \n",
    "foobar = Foobar()\n",
    "assert foobar.handle_it() == 'FooMixin handled it'\n",
    "assert Foobar.__mro__[1] == FooMixin\n",
    "\n",
    "barfoo = Barfoo()\n",
    "assert barfoo.handle_it() == 'Foo handled it'\n",
    "assert Barfoo.__mro__[1] == Foo\n",
    "\n",
    "print('All is well')"
   ]
  },
  {
   "cell_type": "code",
   "execution_count": 28,
   "metadata": {},
   "outputs": [
    {
     "data": {
      "text/plain": [
       "True"
      ]
     },
     "execution_count": 28,
     "metadata": {},
     "output_type": "execute_result"
    }
   ],
   "source": [
    "'google.com/oauth/diagnostics'.endswith('/oauth/diagnostics')"
   ]
  },
  {
   "cell_type": "code",
   "execution_count": 40,
   "metadata": {},
   "outputs": [
    {
     "data": {
      "text/plain": [
       "'Hello | World'"
      ]
     },
     "execution_count": 40,
     "metadata": {},
     "output_type": "execute_result"
    }
   ],
   "source": [
    "import properties\n",
    "\n",
    "class MyFoo(properties.HasProperties):\n",
    "    \n",
    "    prefix = properties.String('A prefix')\n",
    "    random = properties.String('Random')\n",
    "    \n",
    "    @properties.String('Site name')\n",
    "    def site(self):\n",
    "        if getattr(self, '_site', None) is None:\n",
    "            return f'{self.prefix} | {self.random}'\n",
    "        else:\n",
    "            return self._site\n",
    "\n",
    "    @site.setter\n",
    "    def site(self, value):\n",
    "        self._site = value\n",
    "    \n",
    "foo = MyFoo(prefix='Hello', random='World')\n",
    "foo.site"
   ]
  },
  {
   "cell_type": "code",
   "execution_count": null,
   "metadata": {},
   "outputs": [],
   "source": []
  },
  {
   "cell_type": "code",
   "execution_count": null,
   "metadata": {},
   "outputs": [],
   "source": []
  }
 ],
 "metadata": {
  "kernelspec": {
   "display_name": "jupyterlab",
   "language": "python",
   "name": "jupyterlab"
  },
  "language_info": {
   "codemirror_mode": {
    "name": "ipython",
    "version": 3
   },
   "file_extension": ".py",
   "mimetype": "text/x-python",
   "name": "python",
   "nbconvert_exporter": "python",
   "pygments_lexer": "ipython3",
   "version": "3.6.5"
  }
 },
 "nbformat": 4,
 "nbformat_minor": 2
}
