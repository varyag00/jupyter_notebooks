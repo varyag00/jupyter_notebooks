{
 "cells": [
  {
   "cell_type": "code",
   "execution_count": 22,
   "metadata": {},
   "outputs": [
    {
     "name": "stdout",
     "output_type": "stream",
     "text": [
      "All is good\n"
     ]
    }
   ],
   "source": [
    "\"\"\"Using mixins to override method/attributes on a class\n",
    "\n",
    "Main takeaway:\n",
    "- Order matters: when inheriting from a mixin that you wish \n",
    "to override some attr/behaviour, the mixin must be inherited\n",
    "from before the \"base\" so that the mixin's method appears \n",
    "before the \"base\"'s method in the MRO.\n",
    "\"\"\"\n",
    "\n",
    "class Foo(object):\n",
    "    def handle_it(self):\n",
    "        return 'Foo handled it'\n",
    "    \n",
    "    foo = 42\n",
    "    bar = 'LUE'\n",
    "    \n",
    "class FooMixin(object):\n",
    "    def handle_it(self):\n",
    "        return 'FooMixin handled it'\n",
    "    \n",
    "class Foobar(FooMixin, Foo):\n",
    "    \"\"\"Foo with handle_it() overridden by FooMixin\"\"\"\n",
    "\n",
    "class Barfoo(Foo, FooMixin):\n",
    "    \"\"\"Foo _without_ handle_it() overridden by FooMixin\"\"\"\n",
    "    \n",
    "foobar = Foobar()\n",
    "assert foobar.handle_it() == 'FooMixin handled it'\n",
    "assert Foobar.__mro__[1] == FooMixin\n",
    "\n",
    "barfoo = Barfoo()\n",
    "assert barfoo.handle_it() == 'Foo handled it'\n",
    "assert Barfoo.__mro__[1] == Foo\n",
    "\n",
    "print('All is well')"
   ]
  },
  {
   "cell_type": "code",
   "execution_count": null,
   "metadata": {},
   "outputs": [],
   "source": []
  }
 ],
 "metadata": {
  "kernelspec": {
   "display_name": "jupyterlab",
   "language": "python",
   "name": "jupyterlab"
  },
  "language_info": {
   "codemirror_mode": {
    "name": "ipython",
    "version": 3
   },
   "file_extension": ".py",
   "mimetype": "text/x-python",
   "name": "python",
   "nbconvert_exporter": "python",
   "pygments_lexer": "ipython3",
   "version": "3.6.5"
  }
 },
 "nbformat": 4,
 "nbformat_minor": 2
}
