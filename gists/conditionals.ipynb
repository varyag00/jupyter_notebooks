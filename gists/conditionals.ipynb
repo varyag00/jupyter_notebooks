{
 "cells": [
  {
   "cell_type": "code",
   "execution_count": null,
   "metadata": {},
   "outputs": [],
   "source": [
    "\"\"\"Testing multiple values\"\"\"\n",
    "\n",
    "# One way to test multiple values\n",
    "x, y, z = 42, 43, 44\n",
    "if 44 == x or 44 == y or 44 == z:\n",
    "    print('True')\n",
    "    \n",
    "\n",
    "# Slightly cleaner way to do it\n",
    "x, y, z = 42, 43, 44\n",
    "if 44 in {x, y, z}:\n",
    "    print('True')\n",
    "    \n",
    "\"\"\"Note that using sets allow for contant time membership \n",
    "test _as long as all members are literals_ (so not in this case)\n",
    "\"\"\""
   ]
  }
 ],
 "metadata": {
  "kernelspec": {
   "display_name": "jupyterlab",
   "language": "python",
   "name": "jupyterlab"
  },
  "language_info": {
   "codemirror_mode": {
    "name": "ipython",
    "version": 3
   },
   "file_extension": ".py",
   "mimetype": "text/x-python",
   "name": "python",
   "nbconvert_exporter": "python",
   "pygments_lexer": "ipython3",
   "version": "3.6.5"
  }
 },
 "nbformat": 4,
 "nbformat_minor": 2
}
