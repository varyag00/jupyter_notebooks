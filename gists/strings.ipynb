{
 "cells": [
  {
   "cell_type": "code",
   "execution_count": 1,
   "metadata": {},
   "outputs": [
    {
     "name": "stdout",
     "output_type": "stream",
     "text": [
      "\n",
      "<html>\n",
      "    <title> Page Title </title>\n",
      "    <body>\n",
      "        <p> Test </p>\n",
      "    </body>\n",
      "</html>\n",
      "\n"
     ]
    }
   ],
   "source": [
    "\"\"\"Dedenting text across multiple lines\"\"\"\n",
    "\n",
    "import textwrap\n",
    "\n",
    "foo = textwrap.dedent(\n",
    "    \"\"\"\n",
    "    <html>\n",
    "        <title> Page Title </title>\n",
    "        <body>\n",
    "            <p> Test </p>\n",
    "        </body>\n",
    "    </html>\n",
    "    \"\"\"\n",
    ")\n",
    "print(foo)\n",
    "\n",
    "\n",
    "\"\"\"BONUS: simply using parenthesis\"\"\"\n",
    "x = 'test'\n",
    "y = 'test1'\n",
    "url = (\n",
    "    f'{x}/' \n",
    "    f'{y}/'\n",
    "    f'{x}_{y}'\n",
    ")\n",
    "url1 = (f'{x}/'f'{y}/'f'{x}_{y}')\n",
    "\n",
    "assert url == url1\n",
    "print(url)"
   ]
  },
  {
   "cell_type": "code",
   "execution_count": 5,
   "metadata": {},
   "outputs": [
    {
     "name": "stdout",
     "output_type": "stream",
     "text": [
      "1235.00\n"
     ]
    }
   ],
   "source": [
    "\"\"\"Setting significant digits for floats\"\"\"\n",
    "foo = 1234.999999998\n",
    "bar = f'{foo:.2f}'\n",
    "print(bar)"
   ]
  },
  {
   "cell_type": "code",
   "execution_count": 15,
   "metadata": {},
   "outputs": [
    {
     "name": "stdout",
     "output_type": "stream",
     "text": [
      "ParseResult(scheme='https', netloc='auth.seequent.com', path='', params='', query='r=https://redirect.com/test&foo=42&bar=43', fragment='')\n",
      "{'r': ['https://redirect.com/test'], 'foo': ['42'], 'bar': ['43']}\n"
     ]
    }
   ],
   "source": [
    "\"\"\"Playing with urllib.parse\"\"\"\n",
    "\n",
    "from urllib.parse import urlparse, parse_qs\n",
    "\n",
    "url = 'https://auth.seequent.com?r=https://redirect.com/test&foo=42&bar=43'\n",
    "parsed = urlparse(url)\n",
    "assert parsed.netloc == 'auth.seequent.com'\n",
    "print(parsed)\n",
    "\n",
    "# parse query strings\n",
    "parsed_qs = parse_qs(parsed.query)\n",
    "# bonus: check for multiple keys are in a dict\n",
    "assert all(qs in parsed_qs for qs in ('r', 'foo', 'bar'))\n",
    "print(parsed_qs)"
   ]
  },
  {
   "cell_type": "code",
   "execution_count": null,
   "metadata": {},
   "outputs": [],
   "source": []
  }
 ],
 "metadata": {
  "kernelspec": {
   "display_name": "jupyterlab",
   "language": "python",
   "name": "jupyterlab"
  },
  "language_info": {
   "codemirror_mode": {
    "name": "ipython",
    "version": 3
   },
   "file_extension": ".py",
   "mimetype": "text/x-python",
   "name": "python",
   "nbconvert_exporter": "python",
   "pygments_lexer": "ipython3",
   "version": "3.6.5"
  }
 },
 "nbformat": 4,
 "nbformat_minor": 2
}
