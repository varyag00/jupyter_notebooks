{
 "cells": [
  {
   "cell_type": "code",
   "execution_count": 1,
   "metadata": {},
   "outputs": [],
   "source": [
    "%load_ext ipython_pytest"
   ]
  },
  {
   "cell_type": "code",
   "execution_count": 47,
   "metadata": {},
   "outputs": [
    {
     "name": "stdout",
     "output_type": "stream",
     "text": [
      "======================================== test session starts ========================================\n",
      "platform darwin -- Python 3.6.2, pytest-3.6.0, py-1.5.3, pluggy-0.6.0 -- /Library/Frameworks/Python.framework/Versions/3.6/bin/python3.6\n",
      "cachedir: .pytest_cache\n",
      "rootdir: /private/var/folders/8r/t078wryx60dgpr2b96t602k40000gn/T/tmp3ere870x, inifile:\n",
      "collecting ... collected 5 items\n",
      "\n",
      "_ipytesttmp.py::test_unique_subsets[-expected0] PASSED                                        [ 20%]\n",
      "_ipytesttmp.py::test_unique_subsets[a-expected1] PASSED                                       [ 40%]\n",
      "_ipytesttmp.py::test_unique_subsets[ab-expected2] PASSED                                      [ 60%]\n",
      "_ipytesttmp.py::test_unique_subsets[abc-expected3] PASSED                                     [ 80%]\n",
      "_ipytesttmp.py::test_unique_subsets[abcd-expected4] PASSED                                    [100%]\n",
      "\n",
      "===================================== 5 passed in 0.11 seconds ======================================\n"
     ]
    }
   ],
   "source": [
    "%%pytest -vv\n",
    "\n",
    "import pytest\n",
    "\n",
    "\n",
    "def unique_subsets(set_input):\n",
    "    # Naive iterative solution: we will have 2**n different subsets, \n",
    "    # because for each element,  we can either include it in the \n",
    "    # current subset or not\n",
    "    subsets = {''}\n",
    "    if len(set_input) == 0: \n",
    "        return subsets\n",
    "    elif len(set_input) == 1:\n",
    "        subsets.add(set_input)\n",
    "        return subsets\n",
    "    \n",
    "    count = 2 ** len(set_input)\n",
    "    bin_length = len(bin(count)[2:]) - 1\n",
    "    \n",
    "    while count > 0:\n",
    "        bin_count = f'{count:0{bin_length}b}'\n",
    "        subset = ''\n",
    "        for index, char in enumerate(bin_count):\n",
    "            if char == '1':\n",
    "                subset += set_input[index]\n",
    "                \n",
    "        subsets.add(subset)\n",
    "        count -= 1\n",
    "    \n",
    "    assert len(subsets) == 2 ** len(set_input)\n",
    "\n",
    "    return subsets\n",
    "\n",
    "@pytest.mark.parametrize(\n",
    "    'test_input, expected', [\n",
    "        ('', {''}),\n",
    "        ('a', {'', 'a'}),\n",
    "        ('ab', {'', 'ab', 'a', 'b'}),\n",
    "        ('abc', {'', 'abc', 'ab', 'bc', 'ac', 'a', 'b', 'c'}),\n",
    "        ('abcd',  {\n",
    "            '', 'abcd', 'abc', 'bcd', 'acd', 'abd', 'ab', 'ac', \n",
    "            'ad', 'a', 'b', 'bc', 'bd', 'c', 'cd', 'd'\n",
    "        })\n",
    "    ]\n",
    ")\n",
    "def test_unique_subsets(test_input, expected):\n",
    "    assert unique_subsets(test_input) == expected"
   ]
  },
  {
   "cell_type": "code",
   "execution_count": null,
   "metadata": {},
   "outputs": [],
   "source": []
  }
 ],
 "metadata": {
  "kernelspec": {
   "display_name": "jupyterlab",
   "language": "python",
   "name": "jupyterlab"
  },
  "language_info": {
   "codemirror_mode": {
    "name": "ipython",
    "version": 3
   },
   "file_extension": ".py",
   "mimetype": "text/x-python",
   "name": "python",
   "nbconvert_exporter": "python",
   "pygments_lexer": "ipython3",
   "version": "3.6.5"
  }
 },
 "nbformat": 4,
 "nbformat_minor": 2
}
