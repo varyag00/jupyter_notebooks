{
 "cells": [
  {
   "cell_type": "markdown",
   "metadata": {},
   "source": [
    "# S.O.L.I.D. Object Oriented Principles\n",
    "\n",
    "### S. - Single Responsibility Principle\n",
    "A class should have single responsibility; It should only have one job.\n",
    "\n",
    "### O. - Open-closed Principle\n",
    "A class should be easily extendable _without_ modifying the class itself.\n",
    "\n",
    "### L. - Liskov Substitution Principle\n",
    "Every subclass should be substitutable for the base/parent class.\n",
    "\n",
    "### I. - Interface Segredation Principle\n",
    "A client should never be forced to implement an interface that it doesn't use, and or clients shouldn't be forced to depend on methods they do not use.\n",
    "\n",
    "### D. - Dependency Inversion Principle\n",
    "High level modules must not depend on low level modules; they should intead depend on _abstractions_ for those modules.\n"
   ]
  },
  {
   "cell_type": "code",
   "execution_count": null,
   "metadata": {},
   "outputs": [],
   "source": [
    "# single responsibility principle"
   ]
  }
 ],
 "metadata": {
  "kernelspec": {
   "display_name": "Python 3",
   "language": "python",
   "name": "python3"
  },
  "language_info": {
   "codemirror_mode": {
    "name": "ipython",
    "version": 3
   },
   "file_extension": ".py",
   "mimetype": "text/x-python",
   "name": "python",
   "nbconvert_exporter": "python",
   "pygments_lexer": "ipython3",
   "version": "3.6.2"
  }
 },
 "nbformat": 4,
 "nbformat_minor": 2
}
