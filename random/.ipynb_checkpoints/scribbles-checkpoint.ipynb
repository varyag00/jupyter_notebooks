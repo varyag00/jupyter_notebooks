{
 "cells": [
  {
   "cell_type": "markdown",
   "metadata": {},
   "source": [
    "### To make jupyterlab use the interpreter in a venv:\n",
    "```\n",
    "pipenv install && pipenv shell\n",
    "pipenv install ipykernel\n",
    "ipython kernel install --user --name=mynotebookernel\n",
    "```"
   ]
  },
  {
   "cell_type": "code",
   "execution_count": 1,
   "metadata": {},
   "outputs": [
    {
     "name": "stdout",
     "output_type": "stream",
     "text": [
      "virtual environment found\n"
     ]
    }
   ],
   "source": [
    "import sys\n",
    "\n",
    "# determining if interpreter is running in a venv\n",
    "def is_venv():\n",
    "    venv_found = hasattr(sys, 'real_prefix') or (\n",
    "        hasattr(sys, 'base_prefix') and sys.base_prefix != sys.prefix\n",
    "    )\n",
    "    return venv_found\n",
    "print(f'virtual environment {\"\" if is_venv() else \"not \"}found')"
   ]
  },
  {
   "cell_type": "code",
   "execution_count": 2,
   "metadata": {},
   "outputs": [
    {
     "name": "stdout",
     "output_type": "stream",
     "text": [
      "\u001b[39m\u001b[1mInstalling \u001b[32m\u001b[1mproperties\u001b[39m\u001b[22m…\u001b[39m\u001b[22m\n",
      "\u001b[34m\u001b[22mRequirement already satisfied: properties in /Users/dan/.local/share/virtualenvs/jupyter_notebooks-LUZkQtZY/lib/python3.6/site-packages (0.4.0)\n",
      "Requirement already satisfied: six in /Users/dan/.local/share/virtualenvs/jupyter_notebooks-LUZkQtZY/lib/python3.6/site-packages (from properties) (1.11.0)\n",
      "\u001b[39m\u001b[22m\n",
      "\u001b[39m\u001b[1mAdding\u001b[39m\u001b[22m \u001b[32m\u001b[1mproperties\u001b[39m\u001b[22m \u001b[39m\u001b[1mto Pipfile's\u001b[39m\u001b[22m \u001b[31m\u001b[1m[packages]\u001b[39m\u001b[22m\u001b[39m\u001b[1m…\u001b[39m\u001b[22m\n",
      "\u001b[39m\u001b[1mInstalling \u001b[32m\u001b[1m--beta\u001b[39m\u001b[22m…\u001b[39m\u001b[22m\n",
      "⠼\u001b[31m\u001b[22mWARNING\u001b[39m\u001b[22m: Invalid requirement, parse error at \"'--beta'\"\n",
      "\u001b[31m\u001b[22mABORTING INSTALL\u001b[39m\u001b[22m... You will have to reinstall any packages that failed to install.\n",
      "You may have to manually run \u001b[39m\u001b[1mpipenv lock\u001b[39m\u001b[22m when you are finished.\n",
      "\b"
     ]
    }
   ],
   "source": [
    "!pipenv install properties --beta\n",
    "# # determine where a package is installed\n",
    "# import properties\n",
    "# print(properties.__file__)"
   ]
  },
  {
   "cell_type": "code",
   "execution_count": 10,
   "metadata": {},
   "outputs": [
    {
     "data": {
      "text/plain": [
       "datetime.datetime(2018, 5, 22, 14, 49, 46, 497711)"
      ]
     },
     "execution_count": 10,
     "metadata": {},
     "output_type": "execute_result"
    }
   ],
   "source": [
    "import datetime\n",
    "datetime.datetime.now()"
   ]
  },
  {
   "cell_type": "code",
   "execution_count": 14,
   "metadata": {},
   "outputs": [
    {
     "name": "stdout",
     "output_type": "stream",
     "text": [
      "--Call--\n",
      "[25] > \u001b[33;01m/Library/Frameworks/Python.framework/Versions/3.6/lib/python3.6/site-packages/IPython/core/displayhook.py\u001b[00m(\u001b[36;01m247\u001b[00m)__call__()\n",
      "-> def __call__(self, result=None):\n"
     ]
    }
   ],
   "source": [
    "import pdb\n",
    "x = 42\n",
    "pdb.set_trace()"
   ]
  },
  {
   "cell_type": "code",
   "execution_count": 19,
   "metadata": {},
   "outputs": [
    {
     "name": "stdout",
     "output_type": "stream",
     "text": [
      "(1, 2, 3) {'test1': 'foo', 'test2': 'foo2'}\n",
      "--Return--\n",
      "[25] > \u001b[33;01m<ipython-input-19-18a903429db1>\u001b[00m(\u001b[36;01m4\u001b[00m)test()->None\n",
      "-> pdb.set_trace()\n",
      "'foo'\n",
      "'foo'\n",
      "  \u001b[34;01m1\u001b[39;49;00m  \t\u001b[34;01mdef\u001b[39;49;00m \u001b[32;01mtest\u001b[39;49;00m(*args, **kwargs):\n",
      "  \u001b[34;01m2\u001b[39;49;00m  \t    \u001b[34;01mprint\u001b[39;49;00m(args, kwargs)\n",
      "  \u001b[34;01m3\u001b[39;49;00m  \t    x = kwargs.get(\u001b[33m'\u001b[39;49;00m\u001b[33mtest1\u001b[39;49;00m\u001b[33m'\u001b[39;49;00m)\n",
      "  \u001b[34;01m4\u001b[39;49;00m  ->\t    pdb.set_trace()\n",
      "  \u001b[34;01m5\u001b[39;49;00m  \ttest(\u001b[34;01m1\u001b[39;49;00m, \u001b[34;01m2\u001b[39;49;00m, \u001b[34;01m3\u001b[39;49;00m, test1=\u001b[33m'\u001b[39;49;00m\u001b[33mfoo\u001b[39;49;00m\u001b[33m'\u001b[39;49;00m, test2=\u001b[33m'\u001b[39;49;00m\u001b[33mfoo2\u001b[39;49;00m\u001b[33m'\u001b[39;49;00m)\n",
      "[EOF]\n"
     ]
    }
   ],
   "source": [
    "def test(*args, **kwargs):\n",
    "    print(args, kwargs)\n",
    "    x = kwargs.get('test1')\n",
    "    pdb.set_trace()\n",
    "test(1, 2, 3, test1='foo', test2='foo2')"
   ]
  }
 ],
 "metadata": {
  "kernelspec": {
   "display_name": "jupyterlab",
   "language": "python",
   "name": "jupyterlab"
  },
  "language_info": {
   "codemirror_mode": {
    "name": "ipython",
    "version": 3
   },
   "file_extension": ".py",
   "mimetype": "text/x-python",
   "name": "python",
   "nbconvert_exporter": "python",
   "pygments_lexer": "ipython3",
   "version": "3.6.5"
  }
 },
 "nbformat": 4,
 "nbformat_minor": 2
}
