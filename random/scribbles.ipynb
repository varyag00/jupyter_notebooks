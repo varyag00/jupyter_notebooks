{
 "cells": [
  {
   "cell_type": "markdown",
   "metadata": {},
   "source": [
    "### To make jupyterlab use the venv's interpreter:\n",
    "```\n",
    "pipenv install && pipenv shell\n",
    "pipenv install ipykernel\n",
    "ipython kernel install --user --name=mykernel\n",
    "jupyter lab\n",
    "```\n",
    "Then select mykernel within jupyter lab. For more info, see [here](http://anbasile.github.io/programming/2017/06/25/jupyter-venv/)"
   ]
  },
  {
   "cell_type": "code",
   "execution_count": 17,
   "metadata": {},
   "outputs": [
    {
     "name": "stdout",
     "output_type": "stream",
     "text": [
      "virtual environment found: /Users/dan/.local/share/virtualenvs/jupyter_notebooks-LUZkQtZY/bin/..\n",
      "virtual environment found: /Users/dan/.local/share/virtualenvs/jupyter_notebooks-LUZkQtZY/bin/..\n"
     ]
    }
   ],
   "source": [
    "import sys\n",
    "\n",
    "# determining if interpreter is running in a venv\n",
    "def is_venv():\n",
    "    venv_found = hasattr(sys, 'real_prefix') or (\n",
    "        hasattr(sys, 'base_prefix') and sys.base_prefix != sys.prefix\n",
    "    )\n",
    "    return venv_found\n",
    "\n",
    "if is_venv():\n",
    "    print(f'virtual environment found: {sys.prefix}')   \n",
    "else:\n",
    "    print(f'virtual environment not found')   \n",
    "    \n"
   ]
  },
  {
   "cell_type": "code",
   "execution_count": 1,
   "metadata": {},
   "outputs": [
    {
     "name": "stdout",
     "output_type": "stream",
     "text": [
      "/Users/dan/.local/share/virtualenvs/jupyter_notebooks-LUZkQtZY/lib/python3.6/site-packages/properties/__init__.py\n"
     ]
    }
   ],
   "source": [
    "# string interpolation monstrosity:\n",
    "print(\n",
    "    f'virtual environment {\"\" if is_venv() else \"not \"}found{f\": {sys.prefix}\" if is_venv() else \"\"}'\n",
    ")"
   ]
  },
  {
   "cell_type": "code",
   "execution_count": null,
   "metadata": {},
   "outputs": [],
   "source": [
    "# determine where a package is installed\n",
    "import properties\n",
    "print(properties.__file__)"
   ]
  },
  {
   "cell_type": "code",
   "execution_count": 4,
   "metadata": {},
   "outputs": [
    {
     "name": "stdout",
     "output_type": "stream",
     "text": [
      "--Call--\n",
      "> /Users/dan/.local/share/virtualenvs/jupyter_notebooks-LUZkQtZY/lib/python3.6/site-packages/IPython/core/displayhook.py(247)__call__()\n",
      "-> def __call__(self, result=None):\n"
     ]
    }
   ],
   "source": [
    "# Using pdb in a notebook\n",
    "import pdb\n",
    "x = 42\n",
    "pdb.set_trace()"
   ]
  },
  {
   "cell_type": "code",
   "execution_count": 19,
   "metadata": {},
   "outputs": [
    {
     "name": "stdout",
     "output_type": "stream",
     "text": [
      "(1, 2, 3) {'test1': 'foo', 'test2': 'foo2'}\n",
      "--Return--\n",
      "> <ipython-input-19-2a910f9b9725>(6)test()->None\n",
      "-> pdb.set_trace()\n",
      "  1  \timport properties\n",
      "  2  \t\n",
      "  3  \tdef test(*args, **kwargs):\n",
      "  4  \t    print(args, kwargs)\n",
      "  5  \t    x = kwargs.get('test1')\n",
      "  6  ->\t    pdb.set_trace()\n",
      "  7  \t\n",
      "  8  \ttest(1, 2, 3, test1='foo', test2='foo2')\n",
      "[EOF]\n",
      "  3  \tdef test(*args, **kwargs):\n",
      "  4  \t    print(args, kwargs)\n",
      "  5  \t    x = kwargs.get('test1')\n",
      "  6  ->\t    pdb.set_trace()\n",
      "[EOF]\n",
      "[EOF]\n",
      "args = (1, 2, 3)\n",
      "kwargs = {'test1': 'foo', 'test2': 'foo2'}\n",
      "{'test1': 'foo', 'test2': 'foo2'}\n"
     ]
    }
   ],
   "source": [
    "import properties\n",
    "\n",
    "def test(*args, **kwargs):\n",
    "    print(args, kwargs)\n",
    "    x = kwargs.get('test1')\n",
    "    pdb.set_trace()\n",
    "    \n",
    "test(1, 2, 3, test1='foo', test2='foo2')"
   ]
  },
  {
   "cell_type": "code",
   "execution_count": null,
   "metadata": {},
   "outputs": [],
   "source": []
  }
 ],
 "metadata": {
  "kernelspec": {
   "display_name": "jupyterlab",
   "language": "python",
   "name": "jupyterlab"
  },
  "language_info": {
   "codemirror_mode": {
    "name": "ipython",
    "version": 3
   },
   "file_extension": ".py",
   "mimetype": "text/x-python",
   "name": "python",
   "nbconvert_exporter": "python",
   "pygments_lexer": "ipython3",
   "version": "3.6.5"
  }
 },
 "nbformat": 4,
 "nbformat_minor": 2
}
